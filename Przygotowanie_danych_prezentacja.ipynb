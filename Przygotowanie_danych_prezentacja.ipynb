{
 "cells": [
  {
   "cell_type": "code",
   "execution_count": 1,
   "metadata": {
    "ExecuteTime": {
     "end_time": "2020-08-20T11:13:32.469095Z",
     "start_time": "2020-08-20T11:13:30.471705Z"
    }
   },
   "outputs": [
    {
     "name": "stderr",
     "output_type": "stream",
     "text": [
      "Using TensorFlow backend.\n"
     ]
    }
   ],
   "source": [
    "from scipy.io import arff\n",
    "import pandas as pd\n",
    "import seaborn as sb\n",
    "import matplotlib.pyplot as plt\n",
    "import tensorflow as tf\n",
    "from sklearn.model_selection import train_test_split\n",
    "from sklearn.svm import LinearSVC\n",
    "from sklearn.metrics import accuracy_score\n",
    "from keras import Sequential\n",
    "from keras.layers import Dense\n",
    "from keras.optimizers import Adam"
   ]
  },
  {
   "cell_type": "code",
   "execution_count": 6,
   "metadata": {
    "ExecuteTime": {
     "end_time": "2020-08-20T11:13:59.546215Z",
     "start_time": "2020-08-20T11:13:59.541752Z"
    }
   },
   "outputs": [
    {
     "data": {
      "text/html": [
       "<style>.container { width:56% !important; }</style>"
      ],
      "text/plain": [
       "<IPython.core.display.HTML object>"
      ]
     },
     "metadata": {},
     "output_type": "display_data"
    }
   ],
   "source": [
    "from IPython.core.display import display, HTML\n",
    "display(HTML(\"<style>.container { width:56% !important; }</style>\"))\n",
    "pd.options.mode.chained_assignment = None"
   ]
  },
  {
   "cell_type": "code",
   "execution_count": null,
   "metadata": {
    "ExecuteTime": {
     "end_time": "2020-05-16T08:56:50.365959Z",
     "start_time": "2020-05-16T08:56:50.362001Z"
    }
   },
   "outputs": [],
   "source": [
    "from IPython.display import HTML\n",
    "\n",
    "HTML('''<script>\n",
    "code_show=true; \n",
    "function code_toggle() {\n",
    " if (code_show){\n",
    " $('div.input').hide();\n",
    " } else {\n",
    " $('div.input').show();\n",
    " }\n",
    " code_show = !code_show\n",
    "} \n",
    "$( document ).ready(code_toggle);\n",
    "</script>\n",
    "<form action=\"javascript:code_toggle()\"><input type=\"submit\" value=\"Pokaż/ukryj kod\"></form>''')"
   ]
  },
  {
   "cell_type": "markdown",
   "metadata": {},
   "source": [
    "# Przygotowanie danych"
   ]
  },
  {
   "cell_type": "code",
   "execution_count": 2,
   "metadata": {
    "ExecuteTime": {
     "end_time": "2020-08-20T11:13:34.867750Z",
     "start_time": "2020-08-20T11:13:34.822614Z"
    }
   },
   "outputs": [
    {
     "data": {
      "text/html": [
       "<div>\n",
       "<style scoped>\n",
       "    .dataframe tbody tr th:only-of-type {\n",
       "        vertical-align: middle;\n",
       "    }\n",
       "\n",
       "    .dataframe tbody tr th {\n",
       "        vertical-align: top;\n",
       "    }\n",
       "\n",
       "    .dataframe thead th {\n",
       "        text-align: right;\n",
       "    }\n",
       "</style>\n",
       "<table border=\"1\" class=\"dataframe\">\n",
       "  <thead>\n",
       "    <tr style=\"text-align: right;\">\n",
       "      <th></th>\n",
       "      <th>Quality</th>\n",
       "      <th>Pre-screening</th>\n",
       "      <th>MA result1</th>\n",
       "      <th>MA result2</th>\n",
       "      <th>MA result3</th>\n",
       "      <th>MA result4</th>\n",
       "      <th>MA result5</th>\n",
       "      <th>MA result6</th>\n",
       "      <th>Exudates result1</th>\n",
       "      <th>Exudates result2</th>\n",
       "      <th>Exudates result3</th>\n",
       "      <th>Exudates result4</th>\n",
       "      <th>Exudates result5</th>\n",
       "      <th>Exudates result6</th>\n",
       "      <th>Exudates result7</th>\n",
       "      <th>Exudates result 8</th>\n",
       "      <th>Macula - Optic disc dist</th>\n",
       "      <th>Optic disc diameter</th>\n",
       "      <th>AM/FM classification</th>\n",
       "      <th>Class</th>\n",
       "    </tr>\n",
       "  </thead>\n",
       "  <tbody>\n",
       "    <tr>\n",
       "      <th>0</th>\n",
       "      <td>1</td>\n",
       "      <td>1</td>\n",
       "      <td>22</td>\n",
       "      <td>22</td>\n",
       "      <td>22</td>\n",
       "      <td>19</td>\n",
       "      <td>18</td>\n",
       "      <td>14</td>\n",
       "      <td>49.895756</td>\n",
       "      <td>17.775994</td>\n",
       "      <td>5.270920</td>\n",
       "      <td>0.771761</td>\n",
       "      <td>0.018632</td>\n",
       "      <td>0.006864</td>\n",
       "      <td>0.003923</td>\n",
       "      <td>0.003923</td>\n",
       "      <td>0.486903</td>\n",
       "      <td>0.100025</td>\n",
       "      <td>1</td>\n",
       "      <td>0</td>\n",
       "    </tr>\n",
       "    <tr>\n",
       "      <th>1</th>\n",
       "      <td>1</td>\n",
       "      <td>1</td>\n",
       "      <td>24</td>\n",
       "      <td>24</td>\n",
       "      <td>22</td>\n",
       "      <td>18</td>\n",
       "      <td>16</td>\n",
       "      <td>13</td>\n",
       "      <td>57.709936</td>\n",
       "      <td>23.799994</td>\n",
       "      <td>3.325423</td>\n",
       "      <td>0.234185</td>\n",
       "      <td>0.003903</td>\n",
       "      <td>0.003903</td>\n",
       "      <td>0.003903</td>\n",
       "      <td>0.003903</td>\n",
       "      <td>0.520908</td>\n",
       "      <td>0.144414</td>\n",
       "      <td>0</td>\n",
       "      <td>0</td>\n",
       "    </tr>\n",
       "    <tr>\n",
       "      <th>2</th>\n",
       "      <td>1</td>\n",
       "      <td>1</td>\n",
       "      <td>62</td>\n",
       "      <td>60</td>\n",
       "      <td>59</td>\n",
       "      <td>54</td>\n",
       "      <td>47</td>\n",
       "      <td>33</td>\n",
       "      <td>55.831441</td>\n",
       "      <td>27.993933</td>\n",
       "      <td>12.687485</td>\n",
       "      <td>4.852282</td>\n",
       "      <td>1.393889</td>\n",
       "      <td>0.373252</td>\n",
       "      <td>0.041817</td>\n",
       "      <td>0.007744</td>\n",
       "      <td>0.530904</td>\n",
       "      <td>0.128548</td>\n",
       "      <td>0</td>\n",
       "      <td>1</td>\n",
       "    </tr>\n",
       "    <tr>\n",
       "      <th>3</th>\n",
       "      <td>1</td>\n",
       "      <td>1</td>\n",
       "      <td>55</td>\n",
       "      <td>53</td>\n",
       "      <td>53</td>\n",
       "      <td>50</td>\n",
       "      <td>43</td>\n",
       "      <td>31</td>\n",
       "      <td>40.467228</td>\n",
       "      <td>18.445954</td>\n",
       "      <td>9.118901</td>\n",
       "      <td>3.079428</td>\n",
       "      <td>0.840261</td>\n",
       "      <td>0.272434</td>\n",
       "      <td>0.007653</td>\n",
       "      <td>0.001531</td>\n",
       "      <td>0.483284</td>\n",
       "      <td>0.114790</td>\n",
       "      <td>0</td>\n",
       "      <td>0</td>\n",
       "    </tr>\n",
       "    <tr>\n",
       "      <th>4</th>\n",
       "      <td>1</td>\n",
       "      <td>1</td>\n",
       "      <td>44</td>\n",
       "      <td>44</td>\n",
       "      <td>44</td>\n",
       "      <td>41</td>\n",
       "      <td>39</td>\n",
       "      <td>27</td>\n",
       "      <td>18.026254</td>\n",
       "      <td>8.570709</td>\n",
       "      <td>0.410381</td>\n",
       "      <td>0.000000</td>\n",
       "      <td>0.000000</td>\n",
       "      <td>0.000000</td>\n",
       "      <td>0.000000</td>\n",
       "      <td>0.000000</td>\n",
       "      <td>0.475935</td>\n",
       "      <td>0.123572</td>\n",
       "      <td>0</td>\n",
       "      <td>1</td>\n",
       "    </tr>\n",
       "  </tbody>\n",
       "</table>\n",
       "</div>"
      ],
      "text/plain": [
       "   Quality  Pre-screening  MA result1  MA result2  MA result3  MA result4  \\\n",
       "0        1              1          22          22          22          19   \n",
       "1        1              1          24          24          22          18   \n",
       "2        1              1          62          60          59          54   \n",
       "3        1              1          55          53          53          50   \n",
       "4        1              1          44          44          44          41   \n",
       "\n",
       "   MA result5  MA result6  Exudates result1  Exudates result2  \\\n",
       "0          18          14         49.895756         17.775994   \n",
       "1          16          13         57.709936         23.799994   \n",
       "2          47          33         55.831441         27.993933   \n",
       "3          43          31         40.467228         18.445954   \n",
       "4          39          27         18.026254          8.570709   \n",
       "\n",
       "   Exudates result3  Exudates result4  Exudates result5  Exudates result6  \\\n",
       "0          5.270920          0.771761          0.018632          0.006864   \n",
       "1          3.325423          0.234185          0.003903          0.003903   \n",
       "2         12.687485          4.852282          1.393889          0.373252   \n",
       "3          9.118901          3.079428          0.840261          0.272434   \n",
       "4          0.410381          0.000000          0.000000          0.000000   \n",
       "\n",
       "   Exudates result7  Exudates result 8  Macula - Optic disc dist  \\\n",
       "0          0.003923           0.003923                  0.486903   \n",
       "1          0.003903           0.003903                  0.520908   \n",
       "2          0.041817           0.007744                  0.530904   \n",
       "3          0.007653           0.001531                  0.483284   \n",
       "4          0.000000           0.000000                  0.475935   \n",
       "\n",
       "   Optic disc diameter  AM/FM classification  Class  \n",
       "0             0.100025                     1      0  \n",
       "1             0.144414                     0      0  \n",
       "2             0.128548                     0      1  \n",
       "3             0.114790                     0      0  \n",
       "4             0.123572                     0      1  "
      ]
     },
     "execution_count": 2,
     "metadata": {},
     "output_type": "execute_result"
    }
   ],
   "source": [
    "data = arff.loadarff('rethinpathy.arff')\n",
    "df = pd.DataFrame(data[0])\n",
    "df[df.columns[0:8]] = df[df.columns[0:8]].astype(int)\n",
    "df[df.columns[18:20]] = df[df.columns[18:20]].astype(int)\n",
    "col_names = ['Quality', 'Pre-screening', 'MA result1', 'MA result2', 'MA result3', 'MA result4', 'MA result5', 'MA result6', 'Exudates result1', 'Exudates result2', 'Exudates result3', 'Exudates result4', 'Exudates result5', 'Exudates result6', 'Exudates result7',\n",
    "            'Exudates result 8', 'Macula - Optic disc dist', 'Optic disc diameter', 'AM/FM classification', 'Class']\n",
    "df.columns = col_names\n",
    "df.head()"
   ]
  },
  {
   "cell_type": "code",
   "execution_count": 8,
   "metadata": {
    "ExecuteTime": {
     "end_time": "2020-08-20T11:15:20.762200Z",
     "start_time": "2020-08-20T11:15:20.746328Z"
    }
   },
   "outputs": [
    {
     "data": {
      "text/html": [
       "<div>\n",
       "<style scoped>\n",
       "    .dataframe tbody tr th:only-of-type {\n",
       "        vertical-align: middle;\n",
       "    }\n",
       "\n",
       "    .dataframe tbody tr th {\n",
       "        vertical-align: top;\n",
       "    }\n",
       "\n",
       "    .dataframe thead th {\n",
       "        text-align: right;\n",
       "    }\n",
       "</style>\n",
       "<table border=\"1\" class=\"dataframe\">\n",
       "  <thead>\n",
       "    <tr style=\"text-align: right;\">\n",
       "      <th></th>\n",
       "      <th>Quality</th>\n",
       "      <th>Pre-screening</th>\n",
       "      <th>MA result1</th>\n",
       "      <th>Exudates result1</th>\n",
       "      <th>Macula - Optic disc dist</th>\n",
       "      <th>Optic disc diameter</th>\n",
       "      <th>AM/FM classification</th>\n",
       "      <th>Class</th>\n",
       "    </tr>\n",
       "  </thead>\n",
       "  <tbody>\n",
       "    <tr>\n",
       "      <th>0</th>\n",
       "      <td>1</td>\n",
       "      <td>1</td>\n",
       "      <td>22</td>\n",
       "      <td>49.895756</td>\n",
       "      <td>0.486903</td>\n",
       "      <td>0.100025</td>\n",
       "      <td>1</td>\n",
       "      <td>0</td>\n",
       "    </tr>\n",
       "    <tr>\n",
       "      <th>1</th>\n",
       "      <td>1</td>\n",
       "      <td>1</td>\n",
       "      <td>24</td>\n",
       "      <td>57.709936</td>\n",
       "      <td>0.520908</td>\n",
       "      <td>0.144414</td>\n",
       "      <td>0</td>\n",
       "      <td>0</td>\n",
       "    </tr>\n",
       "    <tr>\n",
       "      <th>2</th>\n",
       "      <td>1</td>\n",
       "      <td>1</td>\n",
       "      <td>62</td>\n",
       "      <td>55.831441</td>\n",
       "      <td>0.530904</td>\n",
       "      <td>0.128548</td>\n",
       "      <td>0</td>\n",
       "      <td>1</td>\n",
       "    </tr>\n",
       "    <tr>\n",
       "      <th>3</th>\n",
       "      <td>1</td>\n",
       "      <td>1</td>\n",
       "      <td>55</td>\n",
       "      <td>40.467228</td>\n",
       "      <td>0.483284</td>\n",
       "      <td>0.114790</td>\n",
       "      <td>0</td>\n",
       "      <td>0</td>\n",
       "    </tr>\n",
       "    <tr>\n",
       "      <th>4</th>\n",
       "      <td>1</td>\n",
       "      <td>1</td>\n",
       "      <td>44</td>\n",
       "      <td>18.026254</td>\n",
       "      <td>0.475935</td>\n",
       "      <td>0.123572</td>\n",
       "      <td>0</td>\n",
       "      <td>1</td>\n",
       "    </tr>\n",
       "  </tbody>\n",
       "</table>\n",
       "</div>"
      ],
      "text/plain": [
       "   Quality  Pre-screening  MA result1  Exudates result1  \\\n",
       "0        1              1          22         49.895756   \n",
       "1        1              1          24         57.709936   \n",
       "2        1              1          62         55.831441   \n",
       "3        1              1          55         40.467228   \n",
       "4        1              1          44         18.026254   \n",
       "\n",
       "   Macula - Optic disc dist  Optic disc diameter  AM/FM classification  Class  \n",
       "0                  0.486903             0.100025                     1      0  \n",
       "1                  0.520908             0.144414                     0      0  \n",
       "2                  0.530904             0.128548                     0      1  \n",
       "3                  0.483284             0.114790                     0      0  \n",
       "4                  0.475935             0.123572                     0      1  "
      ]
     },
     "execution_count": 8,
     "metadata": {},
     "output_type": "execute_result"
    }
   ],
   "source": [
    "df[['Quality', 'Pre-screening', 'MA result1', 'Exudates result1',  'Macula - Optic disc dist', 'Optic disc diameter', 'AM/FM classification', 'Class']].head()"
   ]
  },
  {
   "cell_type": "markdown",
   "metadata": {},
   "source": [
    "### Współczynnik pearsona dla całych danych"
   ]
  },
  {
   "cell_type": "code",
   "execution_count": null,
   "metadata": {
    "ExecuteTime": {
     "end_time": "2020-05-16T08:56:51.465590Z",
     "start_time": "2020-05-16T08:56:50.407127Z"
    }
   },
   "outputs": [],
   "source": [
    "dfpc = df.corr(method='pearson')\n",
    "plt.subplots(figsize=(20,15))\n",
    "sb.heatmap(dfpc, \n",
    "            xticklabels=dfpc.columns,\n",
    "            yticklabels=dfpc.columns,\n",
    "            cmap='RdBu_r',\n",
    "            annot=True,\n",
    "            linewidth=0.5)"
   ]
  },
  {
   "cell_type": "code",
   "execution_count": null,
   "metadata": {
    "ExecuteTime": {
     "end_time": "2020-05-16T08:56:51.470550Z",
     "start_time": "2020-05-16T08:56:51.466582Z"
    }
   },
   "outputs": [],
   "source": [
    "tetniaki = df.iloc[:, [2, 3, 4, 5, 6, 7, 19]]\n",
    "wysieki = df.iloc[:, [8, 9, 10, 11, 12, 13, 14, 15, 19]]"
   ]
  },
  {
   "cell_type": "markdown",
   "metadata": {},
   "source": [
    "# Tętniaki"
   ]
  },
  {
   "cell_type": "code",
   "execution_count": null,
   "metadata": {
    "ExecuteTime": {
     "end_time": "2020-05-16T08:56:51.475510Z",
     "start_time": "2020-05-16T08:56:51.471542Z"
    }
   },
   "outputs": [],
   "source": [
    "tetniaki_zdrowi = tetniaki[tetniaki['Class'] == 0]\n",
    "tetniaki_chorzy = tetniaki[tetniaki['Class'] == 1]"
   ]
  },
  {
   "cell_type": "code",
   "execution_count": null,
   "metadata": {
    "ExecuteTime": {
     "end_time": "2020-05-16T08:56:51.481959Z",
     "start_time": "2020-05-16T08:56:51.476502Z"
    }
   },
   "outputs": [],
   "source": [
    "tetniaki_zdrowi['mean_ma_count'] = tetniaki_zdrowi.iloc[:,0:7].mean(axis=1).round(2)\n",
    "print('Średnia liczba tętniaków u pacjentów bez rozpoznaniej retinopatii:', tetniaki_zdrowi['mean_ma_count'].mean())"
   ]
  },
  {
   "cell_type": "code",
   "execution_count": null,
   "metadata": {
    "ExecuteTime": {
     "end_time": "2020-05-16T08:56:51.488406Z",
     "start_time": "2020-05-16T08:56:51.483943Z"
    }
   },
   "outputs": [],
   "source": [
    "tetniaki_chorzy['mean_ma_count'] = tetniaki_chorzy.iloc[:,0:7].mean(axis=1).round(2)\n",
    "print('Średnia liczba tętniaków u pacjentów z rozpoznaną retinopatią:',tetniaki_chorzy['mean_ma_count'].mean())"
   ]
  },
  {
   "cell_type": "markdown",
   "metadata": {},
   "source": [
    "### Wykres współczynnika Pearsona dla badania tętniaków"
   ]
  },
  {
   "cell_type": "code",
   "execution_count": null,
   "metadata": {
    "ExecuteTime": {
     "end_time": "2020-05-16T08:56:51.720534Z",
     "start_time": "2020-05-16T08:56:51.489894Z"
    }
   },
   "outputs": [],
   "source": [
    "PCoefTetniaki = tetniaki.corr(method='pearson')\n",
    "sb.heatmap(PCoefTetniaki, \n",
    "            xticklabels=PCoefTetniaki.columns,\n",
    "            yticklabels=PCoefTetniaki.columns,\n",
    "            cmap='RdBu_r',\n",
    "            annot=True,\n",
    "            linewidth=0.5)"
   ]
  },
  {
   "cell_type": "markdown",
   "metadata": {},
   "source": [
    "# Wysieki"
   ]
  },
  {
   "cell_type": "code",
   "execution_count": null,
   "metadata": {
    "ExecuteTime": {
     "end_time": "2020-05-16T08:56:51.725494Z",
     "start_time": "2020-05-16T08:56:51.721527Z"
    }
   },
   "outputs": [],
   "source": [
    "wysieki_zdrowi = wysieki[wysieki['Class'] == 0]\n",
    "wysieki_chorzy = wysieki[wysieki['Class'] == 1]"
   ]
  },
  {
   "cell_type": "code",
   "execution_count": null,
   "metadata": {
    "ExecuteTime": {
     "end_time": "2020-05-16T08:56:51.733927Z",
     "start_time": "2020-05-16T08:56:51.726487Z"
    }
   },
   "outputs": [],
   "source": [
    "wysieki_zdrowi['mean_ma_count'] = wysieki_zdrowi.iloc[:,0:9].mean(axis=1).round(2)\n",
    "print('Średnia liczba wysieków u pacjentów bez rozpoznaniej retinopatii:', wysieki_zdrowi['mean_ma_count'].mean())"
   ]
  },
  {
   "cell_type": "code",
   "execution_count": null,
   "metadata": {
    "ExecuteTime": {
     "end_time": "2020-05-16T08:56:51.741862Z",
     "start_time": "2020-05-16T08:56:51.735415Z"
    }
   },
   "outputs": [],
   "source": [
    "wysieki_chorzy['mean_ma_count'] = wysieki_chorzy.iloc[:,0:9].mean(axis=1).round(2)\n",
    "print('Średnia liczba tętniaków u pacjentów z rozpoznaną retinopatią:', wysieki_chorzy['mean_ma_count'].mean())"
   ]
  },
  {
   "cell_type": "markdown",
   "metadata": {},
   "source": [
    "### Wykres współczynnika Pearsona dla badania wysieków"
   ]
  },
  {
   "cell_type": "code",
   "execution_count": null,
   "metadata": {
    "ExecuteTime": {
     "end_time": "2020-05-16T08:56:52.041942Z",
     "start_time": "2020-05-16T08:56:51.742855Z"
    }
   },
   "outputs": [],
   "source": [
    "PCoefWysieki = wysieki.corr(method='pearson')\n",
    "sb.heatmap(PCoefWysieki, \n",
    "            xticklabels=PCoefWysieki.columns,\n",
    "            yticklabels=PCoefWysieki.columns,\n",
    "            cmap='RdBu_r',\n",
    "            annot=True,\n",
    "            linewidth=0.5)"
   ]
  },
  {
   "cell_type": "markdown",
   "metadata": {},
   "source": [
    "# Współczynnik pearsona między odległością od środka plamki żółtej do środka tarczy nerwu wzrokowego a średnicą tarczy nerwu wzrokowego"
   ]
  },
  {
   "cell_type": "code",
   "execution_count": null,
   "metadata": {
    "ExecuteTime": {
     "end_time": "2020-05-16T08:56:52.049382Z",
     "start_time": "2020-05-16T08:56:52.042934Z"
    }
   },
   "outputs": [],
   "source": [
    "odl = df.iloc[:, [16, 17]]\n",
    "odl = odl.corr(method='pearson')\n",
    "odl"
   ]
  },
  {
   "cell_type": "markdown",
   "metadata": {},
   "source": [
    "# Klasyfikacja danych z uwzględnieniem danych ze współczynnikiem Pearsona wyższym niż 0,2"
   ]
  },
  {
   "cell_type": "code",
   "execution_count": null,
   "metadata": {
    "ExecuteTime": {
     "end_time": "2020-05-16T08:57:29.367910Z",
     "start_time": "2020-05-16T08:56:52.050870Z"
    }
   },
   "outputs": [],
   "source": [
    "#klasyfikator dla wsp pearsona >= 0.2\n",
    "DataHighpeardf = df.iloc[:, [2, 3, 4, 5]]\n",
    "target = df.iloc[:, 19]\n",
    "\n",
    "data_train, data_test, target_train, target_test = train_test_split(DataHighpeardf,target, test_size = 0.10, random_state = 10)\n",
    "\n",
    "svc_model = LinearSVC(random_state=0, max_iter = 10000000)\n",
    "\n",
    "pred = svc_model.fit(data_train, target_train).predict(data_test)\n",
    "\n",
    "print(\"LinearSVC accuracy: \", accuracy_score(target_test, pred, normalize = True))"
   ]
  },
  {
   "cell_type": "code",
   "execution_count": null,
   "metadata": {
    "ExecuteTime": {
     "end_time": "2020-05-16T08:57:46.461550Z",
     "start_time": "2020-05-16T08:57:29.368902Z"
    }
   },
   "outputs": [],
   "source": [
    "#neural network\n",
    "adam = Adam(lr=0.01)\n",
    "\n",
    "classifier = Sequential()\n",
    "classifier.add(Dense(5, activation='sigmoid', kernel_initializer='random_normal', input_dim=4))\n",
    "classifier.add(Dense(5, activation='sigmoid', kernel_initializer='random_normal'))\n",
    "classifier.add(Dense(5, activation='sigmoid', kernel_initializer='random_normal'))\n",
    "classifier.add(Dense(1, activation='sigmoid', kernel_initializer='random_normal'))\n",
    "classifier.compile(optimizer=adam, loss='binary_crossentropy', metrics=['accuracy'])\n",
    "classifier.fit(data_train, target_train, epochs=1000, verbose=0)\n",
    "\n",
    "prednn = classifier.predict(data_test)"
   ]
  },
  {
   "cell_type": "code",
   "execution_count": null,
   "metadata": {
    "ExecuteTime": {
     "end_time": "2020-05-16T08:57:46.466014Z",
     "start_time": "2020-05-16T08:57:46.462542Z"
    }
   },
   "outputs": [],
   "source": [
    "prednn = (prednn > 0.5)\n",
    "print(\"Neural Network accuracy: \", accuracy_score(target_test, prednn))"
   ]
  },
  {
   "cell_type": "markdown",
   "metadata": {},
   "source": [
    "# Klasyfikacja danych z uwzględnieniem danych ze współczynnikiem Pearsona wyższym niż 0,15"
   ]
  },
  {
   "cell_type": "code",
   "execution_count": null,
   "metadata": {
    "ExecuteTime": {
     "end_time": "2020-05-16T08:58:28.248043Z",
     "start_time": "2020-05-16T08:57:46.467006Z"
    }
   },
   "outputs": [],
   "source": [
    "#dla pearsona >= 0.15\n",
    "DataSemiHighpeardf = df.iloc[:, [2, 3, 4, 5, 13, 14, 15]]\n",
    "target = df.iloc[:, 19]\n",
    "\n",
    "data_train, data_test, target_train, target_test = train_test_split(DataSemiHighpeardf,target, test_size = 0.10, random_state = 10)\n",
    "\n",
    "svc_model = LinearSVC(random_state=0, max_iter = 10000000)\n",
    "\n",
    "pred = svc_model.fit(data_train, target_train).predict(data_test)\n",
    "\n",
    "print(\"LinearSVC acc: \", accuracy_score(target_test, pred, normalize = True))"
   ]
  },
  {
   "cell_type": "code",
   "execution_count": null,
   "metadata": {
    "ExecuteTime": {
     "end_time": "2020-05-16T08:58:47.608899Z",
     "start_time": "2020-05-16T08:58:28.249531Z"
    }
   },
   "outputs": [],
   "source": [
    "#neural network\n",
    "adam = Adam(lr=0.01)\n",
    "\n",
    "classifier = Sequential()\n",
    "classifier.add(Dense(5, activation='sigmoid', kernel_initializer='random_normal', input_dim=7))\n",
    "classifier.add(Dense(5, activation='sigmoid', kernel_initializer='random_normal'))\n",
    "classifier.add(Dense(5, activation='sigmoid', kernel_initializer='random_normal'))\n",
    "classifier.add(Dense(1, activation='sigmoid', kernel_initializer='random_normal'))\n",
    "classifier.compile(optimizer=adam, loss='binary_crossentropy', metrics=['accuracy'])\n",
    "classifier.fit(data_train, target_train, epochs=1000, verbose=0)\n",
    "\n",
    "prednn2 = classifier.predict(data_test)\n",
    "prednn2 = (prednn2 > 0.5)\n",
    "print(\"NN accuracy: \", accuracy_score(target_test, prednn2))"
   ]
  },
  {
   "cell_type": "markdown",
   "metadata": {},
   "source": [
    "# Dyskretyzacja"
   ]
  },
  {
   "cell_type": "code",
   "execution_count": null,
   "metadata": {
    "ExecuteTime": {
     "end_time": "2020-05-16T10:33:54.788204Z",
     "start_time": "2020-05-16T10:33:54.737116Z"
    }
   },
   "outputs": [],
   "source": [
    "datadisc = arff.loadarff('rethinpathydisc.arff')\n",
    "dfdisc = pd.DataFrame(data[0])\n",
    "dfdisc[dfdisc.columns[0:8]] = dfdisc[dfdisc.columns[0:8]]\n",
    "dfdisc[dfdisc.columns[18:20]] = dfdisc[dfdisc.columns[18:20]]\n",
    "col_names = ['Quality', 'Pre-screening', 'MA result1', 'MA result2', 'MA result3', 'MA result4', 'MA result5', 'MA result6', 'Exudates result1', 'Exudates result2', 'Exudates result3', 'Exudates result4', 'Exudates result5', 'Exudates result6', 'Exudates result7',\n",
    "            'Exudates result 8', 'Macula - Optic disc dist', 'Optic disc diameter', 'AM/FM classification', 'Class']\n",
    "dfdisc.columns = col_names\n",
    "dfdisc.head()"
   ]
  },
  {
   "cell_type": "markdown",
   "metadata": {},
   "source": [
    "Przeprowadzenie dyskretyzacji danych za pomocą programu Weka nie przyniosła żadnej różnicy w danych, więc nie zostały przeprowadzone dalsze testy."
   ]
  }
 ],
 "metadata": {
  "kernelspec": {
   "display_name": "Python 3",
   "language": "python",
   "name": "python3"
  },
  "language_info": {
   "codemirror_mode": {
    "name": "ipython",
    "version": 3
   },
   "file_extension": ".py",
   "mimetype": "text/x-python",
   "name": "python",
   "nbconvert_exporter": "python",
   "pygments_lexer": "ipython3",
   "version": "3.7.6"
  },
  "toc": {
   "base_numbering": 1,
   "nav_menu": {},
   "number_sections": true,
   "sideBar": true,
   "skip_h1_title": false,
   "title_cell": "Table of Contents",
   "title_sidebar": "Contents",
   "toc_cell": false,
   "toc_position": {},
   "toc_section_display": true,
   "toc_window_display": false
  },
  "varInspector": {
   "cols": {
    "lenName": 16,
    "lenType": 16,
    "lenVar": 40
   },
   "kernels_config": {
    "python": {
     "delete_cmd_postfix": "",
     "delete_cmd_prefix": "del ",
     "library": "var_list.py",
     "varRefreshCmd": "print(var_dic_list())"
    },
    "r": {
     "delete_cmd_postfix": ") ",
     "delete_cmd_prefix": "rm(",
     "library": "var_list.r",
     "varRefreshCmd": "cat(var_dic_list()) "
    }
   },
   "types_to_exclude": [
    "module",
    "function",
    "builtin_function_or_method",
    "instance",
    "_Feature"
   ],
   "window_display": false
  }
 },
 "nbformat": 4,
 "nbformat_minor": 2
}
