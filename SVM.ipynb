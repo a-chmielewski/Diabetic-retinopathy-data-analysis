{
 "cells": [
  {
   "cell_type": "markdown",
   "metadata": {},
   "source": [
    "# Support Vector Machine jako algorytm uczenia maszynowego do danych biomedycznych"
   ]
  },
  {
   "cell_type": "markdown",
   "metadata": {},
   "source": [
    "    Analizując statystyki wykorzystywanych  algorytmów uczenia maszynowego powstał poniższy graf"
   ]
  },
  {
   "cell_type": "markdown",
   "metadata": {},
   "source": [
    "![title](healthcarealgorythms.png)\n",
    "<h6><center><i>Figure: The most popular Machine Learning algorithms used in the medical literature. The data are generated through searching the Machine Learning algorithms within healthcare on PubMed</i></center></h6>"
   ]
  },
  {
   "cell_type": "markdown",
   "metadata": {},
   "source": [
    "SVM (Support Vector Machine - Maszyna Wektrów Nośnych) jest to algortym uczenia z nadzorem do wykorzystania przy problemach klasyfikacji lub regresji. Jest jednak szeroko wykorzystywany przy klasyfikacji, w której wymagane jest podzielenie danych na dwie klasy przy pomocy płaszczyzny. Celem jest wybraniej takiej płaszczyzny by margines lub odległość między hiperpłaszczyzna a dowolonym punktem w zbiorze treningowym był jak największy żeby móc prawidłowo klasyfikować nowe dane. Wektory wsparcia to punkty danych, które są najbliżej hiperpłaszczyzny i które, jeśli zostaną usunięte, zmienią jej położenie. W SVM określenie parametrów modelu jest problemem optymalizacji wypukłej, więc rozwiązanie jest zawsze optymalne globalnie.\n",
    "SVM są szeroko stosowane w badaniach klinicznych, na przykład w celu identyfikacji biomarkerów obrazowania, diagnozowania nowotworów lub chorób neurologicznych oraz ogólnie do klasyfikacji danych z niezrównoważonych zbiorów danych lub zestawów danych z brakującymi wartościami."
   ]
  },
  {
   "cell_type": "markdown",
   "metadata": {},
   "source": [
    "Zaletami korzystania z algorytmów SVM w uczeniu maszynowym są:\n",
    "- Skuteczność w przestrzanich o dużych wymiarach\n",
    "- Skuteczność w przypadkach, gdy liczba wymiarów jest większa niż liczba próbek\n",
    "- Wydajność pod względem pamięci przez wykorzystywanie funkcji decyzyjnej w zbiorze treningowym (wektory wsparcia)\n",
    "- Wszechstronność\n",
    "\n",
    "SVM mają też swoje wady:\n",
    "- Jeśli liczba funkcji jest znacznie większa niż liczba próbek, należy unikać nadmiernego dopasowania w wyborze funkcji jądra, a regularyzacja ma kluczowe znaczenie\n",
    "- Maszyny SVM nie dostarczają bezpośrednio szacunków prawdopodobieństwa, są one obliczane przy użyciu kosztownej pięciokrotnej walidacji krzyżowej"
   ]
  },
  {
   "cell_type": "markdown",
   "metadata": {},
   "source": [
    "Istnieje kilka rodzajów algorytmów opartych na SVM. W pakiecie do języka Python sklearn, klasy SVC (C-Support Vector Classification), NuSVC (Nu-Support Vector Classification) oraz LinearSVC (Linear Support Vector Classification) są w stanie wykonać klasyfikacje wielu klas w datasecie. Wizualizacja podanych algorytmów poniżej:"
   ]
  },
  {
   "cell_type": "markdown",
   "metadata": {},
   "source": [
    "![title](svc.png)"
   ]
  },
  {
   "cell_type": "markdown",
   "metadata": {
    "ExecuteTime": {
     "end_time": "2020-05-16T08:56:46.810632Z",
     "start_time": "2020-05-16T08:56:46.807656Z"
    }
   },
   "source": [
    "Dalej zostaną przedstawione wyniki klasyfikacji retinopatii cukrzycowej z datasetu, z którego korzystano we wcześniejszych testach."
   ]
  },
  {
   "cell_type": "code",
   "execution_count": null,
   "metadata": {
    "ExecuteTime": {
     "end_time": "2020-05-16T08:57:59.632329Z",
     "start_time": "2020-05-16T08:57:59.628360Z"
    }
   },
   "outputs": [],
   "source": [
    "from scipy.io import arff\n",
    "from sklearn.svm import LinearSVC\n",
    "from sklearn.metrics import accuracy_score\n",
    "import pandas as pd\n",
    "from sklearn.svm import NuSVC\n",
    "from sklearn import svm\n",
    "\n",
    "from sklearn.model_selection import train_test_split\n",
    "from IPython.core.display import display, HTML\n",
    "display(HTML(\"<style>.container { width:80% !important; }</style>\"))"
   ]
  },
  {
   "cell_type": "code",
   "execution_count": null,
   "metadata": {
    "ExecuteTime": {
     "end_time": "2020-05-16T08:57:59.638280Z",
     "start_time": "2020-05-16T08:57:59.633320Z"
    }
   },
   "outputs": [],
   "source": [
    "\n",
    "\n",
    "HTML('''<script>\n",
    "code_show=true; \n",
    "function code_toggle() {\n",
    " if (code_show){\n",
    " $('div.input').hide();\n",
    " } else {\n",
    " $('div.input').show();\n",
    " }\n",
    " code_show = !code_show\n",
    "} \n",
    "$( document ).ready(code_toggle);\n",
    "</script>\n",
    "<form action=\"javascript:code_toggle()\"><input type=\"submit\" value=\"Click here to toggle on/off the raw code.\"></form>''')"
   ]
  },
  {
   "cell_type": "code",
   "execution_count": null,
   "metadata": {
    "ExecuteTime": {
     "end_time": "2020-05-16T08:57:59.934392Z",
     "start_time": "2020-05-16T08:57:59.639768Z"
    }
   },
   "outputs": [],
   "source": [
    "data = arff.loadarff('rethinpathy.arff')\n",
    "df = pd.DataFrame(data[0])\n",
    "df[df.columns[0:8]] = df[df.columns[0:8]].astype(int)\n",
    "df[df.columns[18:20]] = df[df.columns[18:20]].astype(int)\n",
    "col_names = ['Quality', 'Pre-screening', 'MA result1', 'MA result2', 'MA result3', 'MA result4', 'MA result5', 'MA result6', 'Exudates result1', 'Exudates result2', 'Exudates result3', 'Exudates result4', 'Exudates result5', 'Exudates result6', 'Exudates result7',\n",
    "            'Exudates result', 'Macula - Optic disc dist', 'Optic disc diameter', 'AM/FM classification', 'Class']\n",
    "df.columns = col_names\n",
    "data = df[df.columns[0:19]]\n",
    "target = df['Class']\n",
    "\n",
    "data_train, data_test, target_train, target_test = train_test_split(data,target, test_size = 0.20, random_state = 10)"
   ]
  },
  {
   "cell_type": "markdown",
   "metadata": {},
   "source": [
    "## LinearSVC"
   ]
  },
  {
   "cell_type": "code",
   "execution_count": null,
   "metadata": {
    "ExecuteTime": {
     "end_time": "2020-05-16T09:01:50.159634Z",
     "start_time": "2020-05-16T08:57:59.935880Z"
    }
   },
   "outputs": [],
   "source": [
    "svc_model = LinearSVC(random_state=0, max_iter=10000000)\n",
    "\n",
    "pred = svc_model.fit(data_train, target_train).predict(data_test)\n",
    "\n",
    "print(\"LinearSVC acc: \", accuracy_score(target_test, pred, normalize=True))"
   ]
  },
  {
   "cell_type": "markdown",
   "metadata": {},
   "source": [
    "## SVC"
   ]
  },
  {
   "cell_type": "code",
   "execution_count": null,
   "metadata": {
    "ExecuteTime": {
     "end_time": "2020-05-16T09:01:50.211218Z",
     "start_time": "2020-05-16T09:01:50.160626Z"
    }
   },
   "outputs": [],
   "source": [
    "clf = svm.SVC(gamma=0.001, C=100.)\n",
    "\n",
    "pred2 = clf.fit(data_train, target_train).predict(data_test)\n",
    "print(\"SVC acc: \", accuracy_score(target_test, pred2, normalize=True))"
   ]
  },
  {
   "cell_type": "markdown",
   "metadata": {},
   "source": [
    "## NuSVC"
   ]
  },
  {
   "cell_type": "code",
   "execution_count": null,
   "metadata": {
    "ExecuteTime": {
     "end_time": "2020-05-16T09:01:50.243954Z",
     "start_time": "2020-05-16T09:01:50.212210Z"
    }
   },
   "outputs": [],
   "source": [
    "nuclf = NuSVC(nu=0.2, gamma='scale')\n",
    "pred3 = nuclf.fit(data_train, target_train).predict(data_test)\n",
    "print(\"NuSVC acc: \", accuracy_score(target_test, pred3, normalize=True))"
   ]
  },
  {
   "cell_type": "markdown",
   "metadata": {},
   "source": [
    "SVC i NuSVC są podobnymi metodami, ale akceptują nieco inne zestawy parametrów i mają różne formuły matematyczne. LinearSVC jest implementacją Klasyfikacji Wektorów Wsparcia dla przypadku jądra liniowego. Jak inne klasyfikatory, SVC, NuSVC i LinearSVC przyjmują jako dane wejściowe dwie tablice: tablicę X o rozmiarze [n_samples, n_features] przechowującą próbki treningowe oraz tablicę y etykiet klasowych (łańcuchy lub liczby całkowite). Po dopasowaniu model można następnie wykorzystać do przewidywania nowych wartości. Funkcja decyzyjna SVM, tak jak wczesniej wspomniane, zależy od podzbioru danych treningowych, zwanych wektorami wsparcia."
   ]
  },
  {
   "cell_type": "markdown",
   "metadata": {},
   "source": [
    "W przypadku danych wykorzystanych przy tych testach, najlepsze wyniki daje LinearSVC. Być może dalsze eksperymenty z parametrami powyższych metod mogą dać nieco lepsze wyniki. "
   ]
  },
  {
   "cell_type": "code",
   "execution_count": null,
   "metadata": {},
   "outputs": [],
   "source": []
  }
 ],
 "metadata": {
  "kernelspec": {
   "display_name": "Python 3",
   "language": "python",
   "name": "python3"
  },
  "language_info": {
   "codemirror_mode": {
    "name": "ipython",
    "version": 3
   },
   "file_extension": ".py",
   "mimetype": "text/x-python",
   "name": "python",
   "nbconvert_exporter": "python",
   "pygments_lexer": "ipython3",
   "version": "3.7.6"
  },
  "toc": {
   "base_numbering": 1,
   "nav_menu": {},
   "number_sections": true,
   "sideBar": true,
   "skip_h1_title": false,
   "title_cell": "Table of Contents",
   "title_sidebar": "Contents",
   "toc_cell": false,
   "toc_position": {},
   "toc_section_display": true,
   "toc_window_display": false
  },
  "varInspector": {
   "cols": {
    "lenName": 16,
    "lenType": 16,
    "lenVar": 40
   },
   "kernels_config": {
    "python": {
     "delete_cmd_postfix": "",
     "delete_cmd_prefix": "del ",
     "library": "var_list.py",
     "varRefreshCmd": "print(var_dic_list())"
    },
    "r": {
     "delete_cmd_postfix": ") ",
     "delete_cmd_prefix": "rm(",
     "library": "var_list.r",
     "varRefreshCmd": "cat(var_dic_list()) "
    }
   },
   "types_to_exclude": [
    "module",
    "function",
    "builtin_function_or_method",
    "instance",
    "_Feature"
   ],
   "window_display": false
  }
 },
 "nbformat": 4,
 "nbformat_minor": 2
}
