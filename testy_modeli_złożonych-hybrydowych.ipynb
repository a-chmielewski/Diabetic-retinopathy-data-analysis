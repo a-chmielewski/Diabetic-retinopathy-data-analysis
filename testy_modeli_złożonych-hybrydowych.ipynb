{
 "cells": [
  {
   "cell_type": "code",
   "execution_count": 6,
   "metadata": {
    "ExecuteTime": {
     "end_time": "2020-06-15T15:07:59.469608Z",
     "start_time": "2020-06-15T15:07:59.463656Z"
    }
   },
   "outputs": [
    {
     "data": {
      "text/html": [
       "<style>.container { width:98% !important; }</style>"
      ],
      "text/plain": [
       "<IPython.core.display.HTML object>"
      ]
     },
     "metadata": {},
     "output_type": "display_data"
    }
   ],
   "source": [
    "import warnings\n",
    "from scipy.io import arff\n",
    "import pandas as pd\n",
    "import seaborn as sb\n",
    "import matplotlib.pyplot as plt\n",
    "import tensorflow as tf\n",
    "from typing import Tuple, List\n",
    "from keras import Sequential\n",
    "from keras.layers import *\n",
    "from keras.models import Model\n",
    "from keras.optimizers import Adam\n",
    "from sklearn.model_selection import train_test_split, cross_val_score\n",
    "from sklearn.svm import LinearSVC, SVC\n",
    "from sklearn.linear_model import LogisticRegression, LinearRegression\n",
    "from sklearn.preprocessing import StandardScaler\n",
    "from sklearn.tree import DecisionTreeClassifier\n",
    "from sklearn.model_selection import train_test_split\n",
    "from sklearn.metrics import accuracy_score, roc_auc_score, f1_score, classification_report\n",
    "from sklearn.ensemble import BaggingClassifier, RandomForestClassifier, VotingClassifier, AdaBoostClassifier, GradientBoostingClassifier\n",
    "import xgboost as xgb\n",
    "import catboost as cb\n",
    "from mlxtend.classifier import StackingClassifier\n",
    "from IPython.core.display import display, HTML\n",
    "display(HTML(\"<style>.container { width:98% !important; }</style>\"))\n",
    "warnings.filterwarnings(\"ignore\")"
   ]
  },
  {
   "cell_type": "markdown",
   "metadata": {},
   "source": [
    "## Przygotowanie danych"
   ]
  },
  {
   "cell_type": "code",
   "execution_count": 7,
   "metadata": {
    "ExecuteTime": {
     "end_time": "2020-06-15T15:07:59.494917Z",
     "start_time": "2020-06-15T15:07:59.470600Z"
    }
   },
   "outputs": [],
   "source": [
    "data = arff.loadarff('rethinpathy.arff')\n",
    "df = pd.DataFrame(data[0])\n",
    "df[df.columns[0:8]] = df[df.columns[0:8]].astype(int)\n",
    "df[df.columns[18:20]] = df[df.columns[18:20]].astype(int)\n",
    "col_names = ['Quality', 'Pre-screening', 'MA result1', 'MA result2', 'MA result3', 'MA result4', 'MA result5', 'MA result6', 'Exudates result1', 'Exudates result2', 'Exudates result3', 'Exudates result4', 'Exudates result5', 'Exudates result6', 'Exudates result7',\n",
    "            'Exudates result', 'Macula - Optic disc dist', 'Optic disc diameter', 'AM/FM classification', 'Class']\n",
    "df.columns = col_names"
   ]
  },
  {
   "cell_type": "code",
   "execution_count": 8,
   "metadata": {
    "ExecuteTime": {
     "end_time": "2020-06-15T15:07:59.504823Z",
     "start_time": "2020-06-15T15:07:59.495896Z"
    }
   },
   "outputs": [],
   "source": [
    "# ograniczenie wartości odstających\n",
    "df = df[df['MA result1'] <= 110]\n",
    "df = df[df['Exudates result1'] <= 230]\n",
    "# wybór kolumn z wyższym wsp Pearsona oraz przekazanie etykiet do osobnego DataFrame\n",
    "data = df[df.columns[2:16]]\n",
    "target = df['Class']\n",
    "# podzielenie danych na zestaw trenujący i testowy\n",
    "data_train, data_test, target_train, target_test = train_test_split(\n",
    "    data, target, test_size=0.10, random_state=10)\n",
    "# standaryzacja danych\n",
    "std_scale = StandardScaler(with_mean=True, with_std=True).fit(data_train)\n",
    "data_train_norm = std_scale.transform(data_train)\n",
    "data_test_norm = std_scale.transform(data_test)"
   ]
  },
  {
   "cell_type": "markdown",
   "metadata": {},
   "source": [
    "### Stacking"
   ]
  },
  {
   "cell_type": "code",
   "execution_count": 10,
   "metadata": {
    "ExecuteTime": {
     "end_time": "2020-06-15T15:08:03.392959Z",
     "start_time": "2020-06-15T15:08:03.390479Z"
    }
   },
   "outputs": [],
   "source": [
    "# #neural network\n",
    "# adam = Adam(lr=0.01)\n",
    "\n",
    "# classifier = Sequential()\n",
    "# classifier.add(Dense(12, activation='sigmoid', kernel_initializer='random_normal', input_dim=14))\n",
    "# classifier.add(Dense(8, activation='sigmoid', kernel_initializer='random_normal'))\n",
    "# classifier.add(Dense(4, activation='sigmoid', kernel_initializer='random_normal'))\n",
    "# classifier.add(Dense(1, activation='sigmoid', kernel_initializer='random_normal'))\n",
    "# classifier.compile(optimizer=adam, loss='binary_crossentropy', metrics=['accuracy'])\n",
    "# history1 = classifier.fit(data_train_norm, target_train, epochs=1000, verbose=0)\n",
    "# _, accuracy = classifier.evaluate(data_test_norm, target_test)\n",
    "# pred_nn = classifier.predict(data_test_norm)\n",
    "\n",
    "#print('Accuracy: %.2f' % (accuracy*100))\n",
    "\n",
    "# plt.plot(history1.history['accuracy'])\n",
    "# plt.title('model accuracy')\n",
    "# plt.ylabel('accuracy')\n",
    "# plt.xlabel('epoch')\n",
    "# plt.show()"
   ]
  },
  {
   "cell_type": "code",
   "execution_count": 13,
   "metadata": {
    "ExecuteTime": {
     "end_time": "2020-06-15T15:08:13.617977Z",
     "start_time": "2020-06-15T15:08:13.607065Z"
    }
   },
   "outputs": [
    {
     "name": "stdout",
     "output_type": "stream",
     "text": [
      "0.75\n",
      "LinearSVC acc: 82.14\n",
      "ROC AUC: 79.69\n"
     ]
    }
   ],
   "source": [
    "svc_model = LinearSVC(max_iter = 1000, class_weight = 'balanced', C=0.5)\n",
    "clf_svc = svc_model.fit(data_train_norm, target_train)\n",
    "pred_svc = clf_svc.predict(data_test_norm)\n",
    "print(f1_score(pred_svc, target_test))\n",
    "print(\"LinearSVC acc: %.2f\" % (accuracy_score(target_test, pred_svc)*100))\n",
    "print('ROC AUC: %.2f' % (roc_auc_score(target_test, pred_svc)*100))"
   ]
  },
  {
   "cell_type": "markdown",
   "metadata": {},
   "source": [
    "## Bagging meta-estimator"
   ]
  },
  {
   "cell_type": "code",
   "execution_count": 52,
   "metadata": {
    "ExecuteTime": {
     "end_time": "2020-05-16T14:07:18.133685Z",
     "start_time": "2020-05-16T14:07:18.071685Z"
    }
   },
   "outputs": [
    {
     "name": "stdout",
     "output_type": "stream",
     "text": [
      "0.6923076923076923\n",
      "Bag acc:  0.7857142857142857\n",
      "ROC AUC: 75.78\n"
     ]
    }
   ],
   "source": [
    "bag = BaggingClassifier(svc_model, max_samples=0.2, max_features=0.9)\n",
    "clf_bag = bag.fit(data_train_norm, target_train)\n",
    "pred_bag = clf_bag.predict(data_test_norm)\n",
    "print(f1_score(pred_bag, target_test))\n",
    "print(\"Bag acc: \", accuracy_score(target_test, pred_bag, normalize = True))\n",
    "print('ROC AUC: %.2f' % (roc_auc_score(target_test, pred_bag)*100))"
   ]
  },
  {
   "cell_type": "markdown",
   "metadata": {},
   "source": [
    "## Forest of randomized trees"
   ]
  },
  {
   "cell_type": "code",
   "execution_count": 40,
   "metadata": {
    "ExecuteTime": {
     "end_time": "2020-05-16T11:44:56.068631Z",
     "start_time": "2020-05-16T11:44:56.034903Z"
    }
   },
   "outputs": [
    {
     "name": "stdout",
     "output_type": "stream",
     "text": [
      "0.6597938144329897\n",
      "RFC acc:  0.7053571428571429\n",
      "ROC AUC: 70.05\n"
     ]
    }
   ],
   "source": [
    "parameters = {'bootstrap': True,\n",
    "              'min_samples_leaf': 3,\n",
    "              'n_estimators': 20, \n",
    "              'min_samples_split': 10,\n",
    "              'max_features': 'sqrt',\n",
    "              'max_depth': 6,\n",
    "              'max_leaf_nodes': None}\n",
    "rfc = RandomForestClassifier(**parameters)\n",
    "clf_rfc = rfc.fit(data_train_norm, target_train)\n",
    "pred_rfc = clf_rfc.predict(data_test_norm)\n",
    "print(f1_score(pred_rfc, target_test))\n",
    "print(\"RFC acc: \", accuracy_score(target_test, pred_rfc, normalize = True))\n",
    "print('ROC AUC: %.2f' % (roc_auc_score(target_test, pred_rfc)*100))"
   ]
  },
  {
   "cell_type": "markdown",
   "metadata": {},
   "source": [
    "## LogisticRegression"
   ]
  },
  {
   "cell_type": "code",
   "execution_count": 41,
   "metadata": {
    "ExecuteTime": {
     "end_time": "2020-05-16T11:44:56.089463Z",
     "start_time": "2020-05-16T11:44:56.069623Z"
    }
   },
   "outputs": [
    {
     "name": "stdout",
     "output_type": "stream",
     "text": [
      "0.7088607594936709\n",
      "LR acc: 79.46\n",
      "ROC AUC: 76.82\n"
     ]
    }
   ],
   "source": [
    "lr = LogisticRegression(max_iter = 1000000, class_weight = 'balanced', C=0.5)\n",
    "clf_lr = lr.fit(data_train_norm, target_train)\n",
    "pred_lr = clf_lr.predict(data_test_norm)\n",
    "print(f1_score(pred_lr, target_test))\n",
    "print(\"LR acc: %.2f\" % (accuracy_score(target_test, pred_lr)*100))\n",
    "print('ROC AUC: %.2f' % (roc_auc_score(target_test, pred_lr)*100))"
   ]
  },
  {
   "cell_type": "markdown",
   "metadata": {},
   "source": [
    "## DT"
   ]
  },
  {
   "cell_type": "code",
   "execution_count": 42,
   "metadata": {
    "ExecuteTime": {
     "end_time": "2020-05-16T11:44:56.103847Z",
     "start_time": "2020-05-16T11:44:56.090455Z"
    }
   },
   "outputs": [
    {
     "name": "stdout",
     "output_type": "stream",
     "text": [
      "0.6851851851851851\n",
      "DT acc:  0.6964285714285714\n",
      "ROC AUC: 70.57\n"
     ]
    }
   ],
   "source": [
    "dt = DecisionTreeClassifier(random_state=0)\n",
    "clf_dt = dt.fit(data_train_norm, target_train)\n",
    "pred_dt = clf_dt.predict(data_test_norm)\n",
    "print(f1_score(pred_dt, target_test))\n",
    "print(\"DT acc: \", accuracy_score(target_test, pred_dt, normalize = True))\n",
    "print('ROC AUC: %.2f' % (roc_auc_score(target_test, pred_dt)*100))"
   ]
  },
  {
   "cell_type": "markdown",
   "metadata": {},
   "source": [
    "## SVC"
   ]
  },
  {
   "cell_type": "code",
   "execution_count": 43,
   "metadata": {
    "ExecuteTime": {
     "end_time": "2020-05-16T11:44:56.223879Z",
     "start_time": "2020-05-16T11:44:56.104839Z"
    }
   },
   "outputs": [
    {
     "name": "stdout",
     "output_type": "stream",
     "text": [
      "0.7560975609756098\n",
      "SVC acc:  0.8214285714285714\n",
      "ROC AUC: 79.95\n"
     ]
    }
   ],
   "source": [
    "svc = SVC(probability=True, class_weight='balanced', random_state=500)\n",
    "clf_svc = svc.fit(data_train_norm, target_train)\n",
    "pred_svc = clf_svc.predict(data_test_norm)\n",
    "print(f1_score(pred_svc, target_test))\n",
    "print(\"SVC acc: \", accuracy_score(target_test, pred_svc, normalize = True))\n",
    "print('ROC AUC: %.2f' % (roc_auc_score(target_test, pred_svc)*100))"
   ]
  },
  {
   "cell_type": "markdown",
   "metadata": {},
   "source": [
    "## Voting 1 - 3 modele"
   ]
  },
  {
   "cell_type": "code",
   "execution_count": 44,
   "metadata": {
    "ExecuteTime": {
     "end_time": "2020-05-16T11:44:56.227351Z",
     "start_time": "2020-05-16T11:44:56.224871Z"
    }
   },
   "outputs": [],
   "source": [
    "classifiers = [svc_model, bag, rfc, lr, dt, svc]\n",
    "from itertools import combinations\n",
    "kombinacje = list(combinations(classifiers, 3))\n",
    "i = 0\n",
    "accuracies = []\n",
    "\n",
    "for komb in kombinacje:\n",
    "    clf_vote1 = VotingClassifier(\n",
    "        estimators=[('model1', komb[0]), ('model2', komb[1]), ('model3', komb[2])]\n",
    "    )\n",
    "    clf_vote1.fit(data_train_norm, target_train)\n",
    "    pred_vote1 = clf_vote1.predict(data_test_norm)\n",
    "    score_vote = f1_score(pred_vote1, target_test)\n",
    "    i= i+1\n",
    "    accuracies.append(accuracy_score(target_test, pred_vote1, normalize = True))\n",
    "    del clf_vote1, pred_vote1\n",
    "\n",
    "print(\"max acc: \", max(accuracies), \" na indeksie: \", accuracies.index(max(accuracies)))\n",
    "print(kombinacje[accuracies.index(max(accuracies))])"
   ]
  },
  {
   "cell_type": "code",
   "execution_count": 45,
   "metadata": {
    "ExecuteTime": {
     "end_time": "2020-05-16T11:44:56.233303Z",
     "start_time": "2020-05-16T11:44:56.228343Z"
    }
   },
   "outputs": [],
   "source": [
    "test = {\"bag, rfc, dt\"      : [0.875, 4],\n",
    "        \"svm_model, dt, svc\": [0.866, 11],\n",
    "        \"svm_model, rfc, dt\": [0.866, 5]}"
   ]
  },
  {
   "cell_type": "markdown",
   "metadata": {},
   "source": [
    "## Voting 2 - 5 modeli"
   ]
  },
  {
   "cell_type": "code",
   "execution_count": 46,
   "metadata": {
    "ExecuteTime": {
     "end_time": "2020-05-16T11:44:56.236775Z",
     "start_time": "2020-05-16T11:44:56.234295Z"
    }
   },
   "outputs": [],
   "source": [
    "test_5 = {\"svm_model, bag, dt, rfc, svc\": [[0.875, 8], [0.866, 2]]}"
   ]
  },
  {
   "cell_type": "code",
   "execution_count": 47,
   "metadata": {
    "ExecuteTime": {
     "end_time": "2020-05-16T11:44:56.241239Z",
     "start_time": "2020-05-16T11:44:56.237767Z"
    }
   },
   "outputs": [],
   "source": [
    "classifiers = [svc_model, bag, rfc, lr, dt, svc]\n",
    "from itertools import combinations\n",
    "kombinacje5 = list(combinations(classifiers, 5))\n",
    "i5 = 0\n",
    "accuracies5 = []\n",
    "\n",
    "for komb5 in kombinacje5:\n",
    "    clf_vote1 = VotingClassifier(\n",
    "        estimators=[('model1', komb5[0]), ('model2', komb5[1]), ('model3', komb5[2]), ('model4', komb5[3]), ('model5', komb5[4])]\n",
    "    )\n",
    "    clf_vote1.fit(data_train_norm, target_train)\n",
    "    pred_vote1 = clf_vote1.predict(data_test_norm)\n",
    "    score_vote = f1_score(pred_vote1, target_test)\n",
    "    i5= i5+1\n",
    "    accuracies5.append(accuracy_score(target_test, pred_vote1, normalize = True))\n",
    "    del clf_vote1, pred_vote1\n",
    "\n",
    "print(\"max acc: \", max(accuracies5), \" na indeksie: \", accuracies5.index(max(accuracies5)))\n",
    "print(kombinacje[accuracies5.index(max(accuracies5))])"
   ]
  },
  {
   "cell_type": "markdown",
   "metadata": {},
   "source": [
    "## Bagging"
   ]
  },
  {
   "cell_type": "code",
   "execution_count": 48,
   "metadata": {
    "ExecuteTime": {
     "end_time": "2020-05-16T11:44:56.245703Z",
     "start_time": "2020-05-16T11:44:56.242231Z"
    }
   },
   "outputs": [],
   "source": [
    "# classifiers = [svc_model, rfc, lr, dt, svc]\n",
    "# for clf in classifiers:\n",
    "#     bag_t = BaggingClassifier(clf, max_samples=0.2, max_features=0.9, bootstrap=False)\n",
    "#     clf_bag_t = bag_t.fit(data_train_norm, target_train)\n",
    "#     pred_bag_t = clf_bag_t.predict(data_test_norm)\n",
    "#     print(\"/////////\")\n",
    "#     print(clf)\n",
    "#     print(f1_score(pred_bag_t, target_test))\n",
    "#     print(\"Bag acc: \", accuracy_score(target_test, pred_bag_t, normalize = True))\n",
    "#     print('ROC AUC: %.2f' % (roc_auc_score(target_test, pred_bag_t)*100))\n",
    "#     del bag_t, clf_bag_t, pred_bag_t"
   ]
  },
  {
   "cell_type": "code",
   "execution_count": 49,
   "metadata": {
    "ExecuteTime": {
     "end_time": "2020-05-16T11:44:56.249671Z",
     "start_time": "2020-05-16T11:44:56.246695Z"
    }
   },
   "outputs": [],
   "source": [
    "# classifiers = [bag, rfc, lr, dt, svc]\n",
    "# for clf in classifiers:\n",
    "#     bag_b = AdaBoostClassifier(clf, n_estimators=100, learning_rate=0.01)\n",
    "#     clf_bag_b = bag_b.fit(data_train_norm, target_train)\n",
    "#     pred_bag_b = clf_bag_b.predict(data_test_norm)\n",
    "#     print(\"/////////\")\n",
    "#     print(clf)\n",
    "#     print(f1_score(pred_bag_b, target_test))\n",
    "#     print(\"Bag acc: \", accuracy_score(target_test, pred_bag_b, normalize = True))\n",
    "#     print('ROC AUC: %.2f' % (roc_auc_score(target_test, pred_bag_b)*100))\n",
    "#     del bag_b, clf_bag_b, pred_bag_b"
   ]
  },
  {
   "cell_type": "code",
   "execution_count": 50,
   "metadata": {
    "ExecuteTime": {
     "end_time": "2020-05-16T11:44:56.577031Z",
     "start_time": "2020-05-16T11:44:56.250663Z"
    }
   },
   "outputs": [
    {
     "name": "stdout",
     "output_type": "stream",
     "text": [
      "0.6851851851851851\n",
      "DT acc:  0.6964285714285714\n",
      "ROC AUC: 70.57\n"
     ]
    }
   ],
   "source": [
    "clf_meta = DecisionTreeClassifier(min_samples_leaf=3, min_samples_split=9)\n",
    "clf_stack = StackingClassifier(classifiers = [svc_model, bag, rfc, lr, dt, svc], meta_classifier=clf_meta, use_probas=False, use_features_in_secondary=False)\n",
    "clf_stack_fit = clf_stack.fit(data_train_norm, target_train)\n",
    "clf_stack_pred = clf_stack_fit.predict(data_test_norm)\n",
    "print(f1_score(clf_stack_pred, target_test))\n",
    "print(\"DT acc: \", accuracy_score(target_test, clf_stack_pred, normalize = True))\n",
    "print('ROC AUC: %.2f' % (roc_auc_score(target_test, clf_stack_pred)*100))"
   ]
  },
  {
   "cell_type": "code",
   "execution_count": null,
   "metadata": {},
   "outputs": [],
   "source": []
  }
 ],
 "metadata": {
  "kernelspec": {
   "display_name": "Python 3",
   "language": "python",
   "name": "python3"
  },
  "language_info": {
   "codemirror_mode": {
    "name": "ipython",
    "version": 3
   },
   "file_extension": ".py",
   "mimetype": "text/x-python",
   "name": "python",
   "nbconvert_exporter": "python",
   "pygments_lexer": "ipython3",
   "version": "3.7.6"
  },
  "toc": {
   "base_numbering": 1,
   "nav_menu": {},
   "number_sections": true,
   "sideBar": true,
   "skip_h1_title": false,
   "title_cell": "Table of Contents",
   "title_sidebar": "Contents",
   "toc_cell": false,
   "toc_position": {},
   "toc_section_display": true,
   "toc_window_display": false
  },
  "varInspector": {
   "cols": {
    "lenName": 16,
    "lenType": 16,
    "lenVar": 40
   },
   "kernels_config": {
    "python": {
     "delete_cmd_postfix": "",
     "delete_cmd_prefix": "del ",
     "library": "var_list.py",
     "varRefreshCmd": "print(var_dic_list())"
    },
    "r": {
     "delete_cmd_postfix": ") ",
     "delete_cmd_prefix": "rm(",
     "library": "var_list.r",
     "varRefreshCmd": "cat(var_dic_list()) "
    }
   },
   "types_to_exclude": [
    "module",
    "function",
    "builtin_function_or_method",
    "instance",
    "_Feature"
   ],
   "window_display": false
  }
 },
 "nbformat": 4,
 "nbformat_minor": 2
}
